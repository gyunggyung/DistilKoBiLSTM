{
 "cells": [
  {
   "cell_type": "code",
   "execution_count": null,
   "metadata": {
    "colab": {
     "base_uri": "https://localhost:8080/"
    },
    "executionInfo": {
     "elapsed": 18742,
     "status": "ok",
     "timestamp": 1672147483669,
     "user": {
      "displayName": "god king",
      "userId": "04057313168368161962"
     },
     "user_tz": -540
    },
    "id": "fkm9vnO0RmLS",
    "outputId": "95390f36-0387-45a3-ece0-b0d9ac6facfa"
   },
   "outputs": [],
   "source": [
    "from google.colab import drive\n",
    "drive.mount('/content/gdrive/')\n",
    "%cd '/content/gdrive/MyDrive/DistilKoBiLSTM'\n",
    "!pip install torch==1.6.0\n",
    "!pip install torchvision==0.7.0\n",
    "!pip install transformers==3.3.1\n",
    "!pip install pathlib\n",
    "!pip install tokenizersa"
   ]
  },
  {
   "cell_type": "code",
   "execution_count": null,
   "metadata": {
    "colab": {
     "base_uri": "https://localhost:8080/",
     "height": 1000
    },
    "executionInfo": {
     "elapsed": 111465,
     "status": "error",
     "timestamp": 1672147595096,
     "user": {
      "displayName": "god king",
      "userId": "04057313168368161962"
     },
     "user_tz": -540
    },
    "id": "czNGPkI_gXO2",
    "outputId": "566cb8c2-3529-40cb-d248-2469447fec26"
   },
   "outputs": [],
   "source": [
    "from trainer import Main_train\n",
    "\n",
    "hyperparameter = {\"vocab_size\": 3000,\n",
    "                  \"batch_size\": 64,\n",
    "                  \"hidden_dim\": 64,\n",
    "                  \"embedding_dim\": 32,\n",
    "                  \"loss_rate\": 0.1,\n",
    "                  \"temperature\": 3,\n",
    "                  \"train_epoch\": 30,\n",
    "                  \"teacher_path\": \"teacher_model/KoELECTRA-Small-v3/\"}\n",
    "\n",
    "main_train = Main_train(**hyperparameter)\n",
    "main_train.train()"
   ]
  },
  {
   "cell_type": "code",
   "execution_count": null,
   "metadata": {
    "colab": {
     "base_uri": "https://localhost:8080/",
     "height": 378
    },
    "executionInfo": {
     "elapsed": 1904,
     "status": "error",
     "timestamp": 1672147226078,
     "user": {
      "displayName": "god king",
      "userId": "04057313168368161962"
     },
     "user_tz": -540
    },
    "id": "6qBE2Ismsj64",
    "outputId": "ad11e349-486a-4e2a-b3a2-b542d01f09a8"
   },
   "outputs": [],
   "source": [
    "hyperparameter = {\"vocab_size\": [3000, 5000, 9000],\n",
    "                  \"batch_size\": [64, 32, 128],\n",
    "                  \"hidden_dim\": [64, 32],\n",
    "                  \"embedding_dim\": [32, 128, 286, 64, 300, 200, 500],\n",
    "                  \"loss_rate\": [0.8, 0.1],\n",
    "                  \"temperature\": [3, 5],\n",
    "                  \"train_epoch\": [30, 300],\n",
    "                  \"teacher_path\": \"teacher_model/KoELECTRA-Small-v3/\"}\n",
    "\n",
    "main_train = Main_train(**hyperparameter)\n",
    "main_train.train()"
   ]
  },
  {
   "cell_type": "code",
   "execution_count": null,
   "metadata": {
    "id": "bYMQWxVw3g0Z"
   },
   "outputs": [],
   "source": []
  },
  {
   "cell_type": "code",
   "execution_count": null,
   "metadata": {
    "id": "4bkCd52gGL0S"
   },
   "outputs": [],
   "source": [
    "%matplotlib inline\n",
    "%load_ext tensorboard\n",
    "%tensorboard --logdir=logs"
   ]
  },
  {
   "cell_type": "code",
   "execution_count": null,
   "metadata": {
    "id": "gtmwXsiZggkb"
   },
   "outputs": [],
   "source": []
  },
  {
   "cell_type": "code",
   "execution_count": null,
   "metadata": {
    "id": "BHq9liQtg7sU"
   },
   "outputs": [],
   "source": [
    "from utils import count_parameters\n",
    "from modeling_bilstm import BiLSTM\n",
    "\n",
    "input_dim = 4000\n",
    "hidden_dim = 256\n",
    "embedding_dim = 100\n",
    "model = BiLSTM(input_dim = input_dim, hidden_dim = hidden_dim, output_dim = 2, embedding_dim = embedding_dim, lstm_layers = 1, dropout = 0.3)\n",
    "count_parameters(model)"
   ]
  }
 ],
 "metadata": {
  "accelerator": "GPU",
  "colab": {
   "provenance": []
  },
  "gpuClass": "standard",
  "kernelspec": {
   "display_name": "Python 3",
   "language": "python",
   "name": "python3"
  },
  "language_info": {
   "codemirror_mode": {
    "name": "ipython",
    "version": 3
   },
   "file_extension": ".py",
   "mimetype": "text/x-python",
   "name": "python",
   "nbconvert_exporter": "python",
   "pygments_lexer": "ipython3",
   "version": "3.8.8"
  }
 },
 "nbformat": 4,
 "nbformat_minor": 1
}
